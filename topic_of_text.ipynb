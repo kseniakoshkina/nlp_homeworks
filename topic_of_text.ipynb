{
 "cells": [
  {
   "cell_type": "markdown",
   "metadata": {},
   "source": [
    "\n",
    "В этой домашней работе вам предстоит составить csv или pandas таблицу, в которой будет хранится информация о широком или узком топике текста.\n",
    "\n",
    "Мы будем работать с тем же датасетом, что и на последнем семинаре по gensim."
   ]
  },
  {
   "cell_type": "code",
   "execution_count": 1,
   "metadata": {},
   "outputs": [
    {
     "name": "stderr",
     "output_type": "stream",
     "text": [
      "/opt/anaconda3/lib/python3.7/site-packages/past/builtins/misc.py:4: DeprecationWarning: Using or importing the ABCs from 'collections' instead of from 'collections.abc' is deprecated, and in 3.8 it will stop working\n",
      "  from collections import Mapping\n"
     ]
    }
   ],
   "source": [
    "import re\n",
    "import nltk\n",
    "import numpy as np\n",
    "import pandas as pd\n",
    "from pprint import pprint\n",
    "import gensim\n",
    "import gensim.corpora as corpora\n",
    "from gensim.utils import simple_preprocess\n",
    "from gensim.models import CoherenceModel\n",
    "import spacy\n",
    "import pyLDAvis\n",
    "import pyLDAvis.gensim  "
   ]
  },
  {
   "cell_type": "code",
   "execution_count": 2,
   "metadata": {},
   "outputs": [],
   "source": [
    "from nltk.corpus import stopwords\n",
    "stop_words = stopwords.words('english')\n",
    "stop_words.extend(['from', 'subject', 're', 'edu', 'use'])"
   ]
  },
  {
   "cell_type": "code",
   "execution_count": 3,
   "metadata": {},
   "outputs": [
    {
     "data": {
      "text/html": [
       "<div>\n",
       "<style scoped>\n",
       "    .dataframe tbody tr th:only-of-type {\n",
       "        vertical-align: middle;\n",
       "    }\n",
       "\n",
       "    .dataframe tbody tr th {\n",
       "        vertical-align: top;\n",
       "    }\n",
       "\n",
       "    .dataframe thead th {\n",
       "        text-align: right;\n",
       "    }\n",
       "</style>\n",
       "<table border=\"1\" class=\"dataframe\">\n",
       "  <thead>\n",
       "    <tr style=\"text-align: right;\">\n",
       "      <th></th>\n",
       "      <th>content</th>\n",
       "      <th>target</th>\n",
       "      <th>target_names</th>\n",
       "    </tr>\n",
       "  </thead>\n",
       "  <tbody>\n",
       "    <tr>\n",
       "      <th>0</th>\n",
       "      <td>From: lerxst@wam.umd.edu (where's my thing)\\nS...</td>\n",
       "      <td>7</td>\n",
       "      <td>rec.autos</td>\n",
       "    </tr>\n",
       "    <tr>\n",
       "      <th>1</th>\n",
       "      <td>From: guykuo@carson.u.washington.edu (Guy Kuo)...</td>\n",
       "      <td>4</td>\n",
       "      <td>comp.sys.mac.hardware</td>\n",
       "    </tr>\n",
       "    <tr>\n",
       "      <th>2</th>\n",
       "      <td>From: twillis@ec.ecn.purdue.edu (Thomas E Will...</td>\n",
       "      <td>4</td>\n",
       "      <td>comp.sys.mac.hardware</td>\n",
       "    </tr>\n",
       "    <tr>\n",
       "      <th>3</th>\n",
       "      <td>From: jgreen@amber (Joe Green)\\nSubject: Re: W...</td>\n",
       "      <td>1</td>\n",
       "      <td>comp.graphics</td>\n",
       "    </tr>\n",
       "    <tr>\n",
       "      <th>4</th>\n",
       "      <td>From: jcm@head-cfa.harvard.edu (Jonathan McDow...</td>\n",
       "      <td>14</td>\n",
       "      <td>sci.space</td>\n",
       "    </tr>\n",
       "  </tbody>\n",
       "</table>\n",
       "</div>"
      ],
      "text/plain": [
       "                                             content  target  \\\n",
       "0  From: lerxst@wam.umd.edu (where's my thing)\\nS...       7   \n",
       "1  From: guykuo@carson.u.washington.edu (Guy Kuo)...       4   \n",
       "2  From: twillis@ec.ecn.purdue.edu (Thomas E Will...       4   \n",
       "3  From: jgreen@amber (Joe Green)\\nSubject: Re: W...       1   \n",
       "4  From: jcm@head-cfa.harvard.edu (Jonathan McDow...      14   \n",
       "\n",
       "            target_names  \n",
       "0              rec.autos  \n",
       "1  comp.sys.mac.hardware  \n",
       "2  comp.sys.mac.hardware  \n",
       "3          comp.graphics  \n",
       "4              sci.space  "
      ]
     },
     "execution_count": 3,
     "metadata": {},
     "output_type": "execute_result"
    }
   ],
   "source": [
    "df = pd.read_json('https://raw.githubusercontent.com/selva86/datasets/master/newsgroups.json')\n",
    "\n",
    "df.head()"
   ]
  },
  {
   "cell_type": "code",
   "execution_count": 4,
   "metadata": {},
   "outputs": [
    {
     "name": "stderr",
     "output_type": "stream",
     "text": [
      "<>:3: DeprecationWarning: invalid escape sequence \\S\n",
      "<>:6: DeprecationWarning: invalid escape sequence \\s\n",
      "<>:3: DeprecationWarning: invalid escape sequence \\S\n",
      "<>:6: DeprecationWarning: invalid escape sequence \\s\n",
      "<>:3: DeprecationWarning: invalid escape sequence \\S\n",
      "<>:6: DeprecationWarning: invalid escape sequence \\s\n",
      "<ipython-input-4-eee093cf667c>:3: DeprecationWarning: invalid escape sequence \\S\n",
      "  data = [re.sub('\\S*@\\S*\\s?', '', sent) for sent in data]\n",
      "<ipython-input-4-eee093cf667c>:6: DeprecationWarning: invalid escape sequence \\s\n",
      "  data = [re.sub('\\s+', ' ', sent) for sent in data]\n"
     ]
    },
    {
     "name": "stdout",
     "output_type": "stream",
     "text": [
      "['From: (wheres my thing) Subject: WHAT car is this!? Nntp-Posting-Host: '\n",
      " 'rac3.wam.umd.edu Organization: University of Maryland, College Park Lines: '\n",
      " '15 I was wondering if anyone out there could enlighten me on this car I saw '\n",
      " 'the other day. It was a 2-door sports car, looked to be from the late 60s/ '\n",
      " 'early 70s. It was called a Bricklin. The doors were really small. In '\n",
      " 'addition, the front bumper was separate from the rest of the body. This is '\n",
      " 'all I know. If anyone can tellme a model name, engine specs, years of '\n",
      " 'production, where this car is made, history, or whatever info you have on '\n",
      " 'this funky looking car, please e-mail. Thanks, - IL ---- brought to you by '\n",
      " 'your neighborhood Lerxst ---- ']\n"
     ]
    }
   ],
   "source": [
    "\n",
    "data = df.content.values.tolist()\n",
    "\n",
    "data = [re.sub('\\S*@\\S*\\s?', '', sent) for sent in data]\n",
    "\n",
    "\n",
    "data = [re.sub('\\s+', ' ', sent) for sent in data]\n",
    "\n",
    "\n",
    "data = [re.sub(\"\\'\", \"\", sent) for sent in data]\n",
    "\n",
    "pprint(data[:1])\n"
   ]
  },
  {
   "cell_type": "code",
   "execution_count": 5,
   "metadata": {},
   "outputs": [],
   "source": [
    "def sent_to_words(sentences):\n",
    "    for sentence in sentences:\n",
    "        yield(gensim.utils.simple_preprocess(str(sentence), deacc=True))  \n",
    "\n",
    "data_words = list(sent_to_words(data))"
   ]
  },
  {
   "cell_type": "code",
   "execution_count": 6,
   "metadata": {},
   "outputs": [],
   "source": [
    "bigram = gensim.models.Phrases(data_words, min_count=5, threshold=100) \n",
    "trigram = gensim.models.Phrases(bigram[data_words], threshold=100)  \n",
    "\n",
    "bigram_mod = gensim.models.phrases.Phraser(bigram)\n",
    "trigram_mod = gensim.models.phrases.Phraser(trigram)\n"
   ]
  },
  {
   "cell_type": "code",
   "execution_count": 7,
   "metadata": {},
   "outputs": [],
   "source": [
    "def remove_stopwords(texts):\n",
    "    return [[word for word in simple_preprocess(str(doc)) if word not in stop_words] for doc in texts]\n",
    "\n",
    "def make_bigrams(texts):\n",
    "    return [bigram_mod[doc] for doc in texts]\n",
    "\n",
    "def make_trigrams(texts):\n",
    "    return [trigram_mod[bigram_mod[doc]] for doc in texts]\n",
    "\n",
    "def lemmatization(texts, allowed_postags=['NOUN', 'ADJ', 'VERB', 'ADV']):\n",
    "    \"\"\"https://spacy.io/api/annotation\"\"\"\n",
    "    texts_out = []\n",
    "    for sent in texts:\n",
    "        doc = nlp(\" \".join(sent)) \n",
    "        texts_out.append([token.lemma_ for token in doc if token.pos_ in allowed_postags])\n",
    "    return texts_out"
   ]
  },
  {
   "cell_type": "code",
   "execution_count": 8,
   "metadata": {},
   "outputs": [
    {
     "name": "stdout",
     "output_type": "stream",
     "text": [
      "[['where', 'thing', 'car', 'nntp_poste', 'host', 'park', 'line', 'wonder', 'could', 'enlighten', 'car', 'see', 'day', 'door', 'sport', 'car', 'look', 'late', 'early', 'call', 'bricklin', 'door', 'really', 'small', 'addition', 'separate', 'rest', 'body', 'know', 'tellme', 'model', 'name', 'engine', 'year', 'production', 'car', 'make', 'history', 'info', 'funky', 'look', 'car', 'mail', 'thank', 'bring', 'neighborhood', 'lerxst']]\n"
     ]
    }
   ],
   "source": [
    "data_words_nostops = remove_stopwords(data_words)\n",
    "data_words_bigrams = make_bigrams(data_words_nostops)\n",
    "nlp = spacy.load('en', disable=['parser', 'ner'])\n",
    "data_lemmatized = lemmatization(data_words_bigrams, allowed_postags=['NOUN', 'ADJ', 'VERB', 'ADV'])\n",
    "\n",
    "print(data_lemmatized[:1])"
   ]
  },
  {
   "cell_type": "code",
   "execution_count": 187,
   "metadata": {},
   "outputs": [],
   "source": [
    "df['data_lemmatized'] = data_lemmatized"
   ]
  },
  {
   "cell_type": "code",
   "execution_count": 188,
   "metadata": {},
   "outputs": [
    {
     "data": {
      "text/plain": [
       "pandas.core.series.Series"
      ]
     },
     "execution_count": 188,
     "metadata": {},
     "output_type": "execute_result"
    }
   ],
   "source": [
    "type(df['data_lemmatized'])"
   ]
  },
  {
   "cell_type": "code",
   "execution_count": 189,
   "metadata": {},
   "outputs": [],
   "source": [
    "id2word = corpora.Dictionary(data_lemmatized)\n",
    "texts = data_lemmatized\n",
    "corpus = [id2word.doc2bow(text) for text in texts]"
   ]
  },
  {
   "cell_type": "code",
   "execution_count": 190,
   "metadata": {},
   "outputs": [
    {
     "name": "stdout",
     "output_type": "stream",
     "text": [
      "[[(0, 1), (1, 1), (2, 1), (3, 1), (4, 1), (5, 5), (6, 1), (7, 1), (8, 2), (9, 1), (10, 1), (11, 1), (12, 1), (13, 1), (14, 1), (15, 1), (16, 1), (17, 1), (18, 1), (19, 1), (20, 2), (21, 1), (22, 1), (23, 1), (24, 1), (25, 1), (26, 1), (27, 1), (28, 1), (29, 1), (30, 1), (31, 1), (32, 1), (33, 1), (34, 1), (35, 1), (36, 1), (37, 1), (38, 1), (39, 1), (40, 1)]]\n"
     ]
    }
   ],
   "source": [
    "print(corpus[:1])"
   ]
  },
  {
   "cell_type": "code",
   "execution_count": 191,
   "metadata": {},
   "outputs": [],
   "source": [
    "mallet_path = '/Users/ico/Desktop/mallet-2.0.8/bin/mallet'\n",
    "ldamallet = gensim.models.wrappers.LdaMallet(mallet_path, corpus=corpus, num_topics=20, id2word=id2word)\n",
    "coherence_model_ldamallet = CoherenceModel(model=ldamallet, texts=data_lemmatized, dictionary=id2word, coherence='c_v')\n",
    "    "
   ]
  },
  {
   "cell_type": "code",
   "execution_count": 192,
   "metadata": {},
   "outputs": [],
   "source": [
    "def coherencevalues(dictionary, corpus, texts, limit, start=2, step=2):\n",
    "    opt_list = []\n",
    "    models = []\n",
    "    for num_topics in range(start, limit, step):\n",
    "        model = gensim.models.wrappers.LdaMallet(mallet_path, corpus=corpus, num_topics=num_topics, id2word=id2word)\n",
    "        models.append(model)\n",
    "        coherencemodel = CoherenceModel(model=model, texts=texts, dictionary=dictionary, coherence='c_v')\n",
    "        opt_list.append(coherencemodel.get_coherence())\n",
    "    return models, opt_list"
   ]
  },
  {
   "cell_type": "code",
   "execution_count": 193,
   "metadata": {},
   "outputs": [],
   "source": [
    "models, opt_list = coherencevalues(dictionary=id2word, corpus=corpus, texts=data_lemmatized, start=2, limit=30, step=2)"
   ]
  },
  {
   "cell_type": "code",
   "execution_count": 194,
   "metadata": {},
   "outputs": [
    {
     "data": {
      "text/plain": [
       "10"
      ]
     },
     "execution_count": 194,
     "metadata": {},
     "output_type": "execute_result"
    }
   ],
   "source": [
    "#Оптимальное число, должно быть 21, но у меня все слетело, поэтому я взяла шаг больше\n",
    "opt_lists = opt_list.index(max(opt_list))\n",
    "opt_lists"
   ]
  },
  {
   "cell_type": "code",
   "execution_count": 195,
   "metadata": {},
   "outputs": [],
   "source": [
    "ldamallet = gensim.models.wrappers.LdaMallet(mallet_path, corpus=corpus, num_topics=opt_lists, id2word=id2word)"
   ]
  },
  {
   "cell_type": "code",
   "execution_count": 196,
   "metadata": {},
   "outputs": [],
   "source": [
    "data_1 = []\n",
    "for i in ldamallet.show_topics(formatted=False, num_topics=opt_lists):\n",
    "    data_1.append(i[0])"
   ]
  },
  {
   "cell_type": "code",
   "execution_count": 197,
   "metadata": {},
   "outputs": [],
   "source": [
    "topics = []\n",
    "number = []\n",
    "for i in range(len(ldamallet.show_topics(formatted=False, num_topics=opt_lists))):\n",
    "    data_mallet_1 = []\n",
    "    data_mallet_2 = []\n",
    "    for k in ldamallet.show_topics(formatted=False, num_topics=opt_lists)[i][1]:\n",
    "        data_mallet_1.append(k[0])\n",
    "        data_mallet_2.append(k[1])\n",
    "    topics.append(data_mallet_1)\n",
    "    number.append(data_mallet_2)\n",
    "    "
   ]
  },
  {
   "cell_type": "markdown",
   "metadata": {},
   "source": [
    "Далее создадим словарь из слов и их весов, а потом словарь из номера и словаря слов и весов"
   ]
  },
  {
   "cell_type": "code",
   "execution_count": 198,
   "metadata": {},
   "outputs": [],
   "source": [
    "x = 0\n",
    "new_1 = []\n",
    "while x < len(data_1):\n",
    "    data_dict = dict(zip(topics[x],number[x]))\n",
    "    new_1.append(data_dict)\n",
    "    x += 1\n"
   ]
  },
  {
   "cell_type": "code",
   "execution_count": 199,
   "metadata": {},
   "outputs": [],
   "source": [
    "number = dict(zip(data_1, data_dict))"
   ]
  },
  {
   "cell_type": "code",
   "execution_count": 200,
   "metadata": {},
   "outputs": [
    {
     "data": {
      "text/plain": [
       "{0: {'line': 0.022074376506468592,\n",
       "  'file': 0.008620689655172414,\n",
       "  'build': 0.008583796546805057,\n",
       "  'current': 0.00817797235476413,\n",
       "  'power': 0.008079590732451179,\n",
       "  'point': 0.007981209110138226,\n",
       "  'number': 0.007833636676668799,\n",
       "  'case': 0.007624575729253775,\n",
       "  'source': 0.007612278026464656,\n",
       "  'read': 0.0075507895125190615},\n",
       " 1: {'people': 0.011578316650218525,\n",
       "  'question': 0.011551882137318482,\n",
       "  'claim': 0.00933138305371493,\n",
       "  'make': 0.009313760045114902,\n",
       "  'word': 0.009296137036514874,\n",
       "  'true': 0.008961299873114338,\n",
       "  'thing': 0.008564782179613704,\n",
       "  'reason': 0.008388552093613421,\n",
       "  'exist': 0.007806992809812491,\n",
       "  'argument': 0.007049203440011279},\n",
       " 2: {'year': 0.026993127596749326,\n",
       "  'good': 0.022681543808304373,\n",
       "  'game': 0.020787060022472496,\n",
       "  'team': 0.01778201677598056,\n",
       "  'play': 0.016083514071441637,\n",
       "  'player': 0.012294546499777887,\n",
       "  'make': 0.011798061093835742,\n",
       "  'win': 0.0116935378504795,\n",
       "  'line': 0.01166740703964044,\n",
       "  'time': 0.011092529201181112},\n",
       " 3: {'people': 0.02795876030731702,\n",
       "  'time': 0.01373961449852492,\n",
       "  'day': 0.012342718942529215,\n",
       "  'happen': 0.011654695758232823,\n",
       "  'live': 0.010612236388086775,\n",
       "  'man': 0.010278649389640038,\n",
       "  'hear': 0.009746995110865554,\n",
       "  'thing': 0.009309162175404213,\n",
       "  'child': 0.00900684895806186,\n",
       "  'leave': 0.00816245686824356},\n",
       " 4: {'key': 0.01952244756456925,\n",
       "  'information': 0.015893135725429018,\n",
       "  'mail': 0.01484226035708095,\n",
       "  'system': 0.013943057722308892,\n",
       "  'post': 0.012047148552608772,\n",
       "  'message': 0.011418790084936731,\n",
       "  'send': 0.010487086150112672,\n",
       "  'list': 0.009176200381348587,\n",
       "  'address': 0.008937857514300571,\n",
       "  'group': 0.008786184780724562},\n",
       " 5: {'space': 0.010331731768980727,\n",
       "  'year': 0.006566778666725038,\n",
       "  'system': 0.0064463877245017455,\n",
       "  'study': 0.006424498462279329,\n",
       "  'work': 0.006052381004498244,\n",
       "  'time': 0.005724042071161992,\n",
       "  'research': 0.005516094080049032,\n",
       "  'high': 0.005340979982269698,\n",
       "  'test': 0.005209644408935197,\n",
       "  'problem': 0.005176810515601571},\n",
       " 6: {'write': 0.1389821706768219,\n",
       "  'line': 0.1379781893716462,\n",
       "  'article': 0.09723039639951532,\n",
       "  'ax': 0.08166868616929202,\n",
       "  'max': 0.06581270555651722,\n",
       "  'host': 0.05149731694651203,\n",
       "  'organization': 0.038635970226761296,\n",
       "  'reply': 0.025220702786913622,\n",
       "  'nntp_poste': 0.01782932317812013,\n",
       "  'post': 0.010818764064393284},\n",
       " 7: {'people': 0.01615310800725024,\n",
       "  'state': 0.013514233926857874,\n",
       "  'government': 0.013425382947720084,\n",
       "  'gun': 0.011328499840068238,\n",
       "  'make': 0.010013505348828944,\n",
       "  'law': 0.008307566549383374,\n",
       "  'country': 0.007054767743540534,\n",
       "  'today': 0.0051711269858193834,\n",
       "  'force': 0.004975654831716246,\n",
       "  'case': 0.00494011444006113},\n",
       " 8: {'window': 0.018262780022754915,\n",
       "  'file': 0.016477696261132255,\n",
       "  'problem': 0.014006041821962415,\n",
       "  'system': 0.013800070618698262,\n",
       "  'run': 0.012672133077013613,\n",
       "  'card': 0.012456353721213072,\n",
       "  'software': 0.011308799874455648,\n",
       "  'program': 0.010985130840754835,\n",
       "  'drive': 0.0106810781121268,\n",
       "  'version': 0.010426066146180706},\n",
       " 9: {'car': 0.021106074801853586,\n",
       "  'good': 0.016915246511863463,\n",
       "  'buy': 0.015307285204223748,\n",
       "  'price': 0.011660884758552582,\n",
       "  'make': 0.01102782912562356,\n",
       "  'sell': 0.010989845787647818,\n",
       "  'drive': 0.010394773492694537,\n",
       "  'thing': 0.010242840140791572,\n",
       "  'line': 0.009495834493935327,\n",
       "  'sale': 0.008837456635689144}}"
      ]
     },
     "execution_count": 200,
     "metadata": {},
     "output_type": "execute_result"
    }
   ],
   "source": [
    "number"
   ]
  },
  {
   "cell_type": "code",
   "execution_count": 202,
   "metadata": {},
   "outputs": [],
   "source": [
    "def what_topic(text):\n",
    "    d = {i: 0 for i in range(len(nn))}\n",
    "    for word in text:\n",
    "        k = 0\n",
    "        for num in range(opt_lists):\n",
    "            if word in list(number[num].keys()):\n",
    "                k += number[num].get(word)\n",
    "                d[num]=k\n",
    "    return max(d, key=d.get)"
   ]
  },
  {
   "cell_type": "code",
   "execution_count": 203,
   "metadata": {},
   "outputs": [],
   "source": [
    "df['topic'] = df['data_lemmatized'].apply(what_topic)"
   ]
  },
  {
   "cell_type": "code",
   "execution_count": 204,
   "metadata": {},
   "outputs": [
    {
     "data": {
      "text/plain": [
       "0        6\n",
       "1        9\n",
       "2        6\n",
       "3        6\n",
       "4        6\n",
       "        ..\n",
       "11309    6\n",
       "11310    9\n",
       "11311    6\n",
       "11312    9\n",
       "11313    9\n",
       "Name: topic, Length: 11314, dtype: int64"
      ]
     },
     "execution_count": 204,
     "metadata": {},
     "output_type": "execute_result"
    }
   ],
   "source": [
    "df['topic']"
   ]
  },
  {
   "cell_type": "code",
   "execution_count": 205,
   "metadata": {},
   "outputs": [
    {
     "data": {
      "text/plain": [
       "0        [where, thing, car, nntp_poste, host, park, li...\n",
       "1        [poll, final, call, summary, final, call, cloc...\n",
       "2        [engineering, computer, network, distribution_...\n",
       "3        [division, line, host, write, write, article, ...\n",
       "4        [question, distribution, article, write, clear...\n",
       "                               ...                        \n",
       "11309    [scan, city, reply, line, consultation, cheap,...\n",
       "11310    [screen, medford, old, problem, screen, blank,...\n",
       "11311    [este, mount, mail, group, line, instal, try, ...\n",
       "11312    [line, article, write, boy, embarasse, trivial...\n",
       "11313    [steal, organization, line, distribution_usa, ...\n",
       "Name: data_lemmatized, Length: 11314, dtype: object"
      ]
     },
     "execution_count": 205,
     "metadata": {},
     "output_type": "execute_result"
    }
   ],
   "source": [
    "df['data_lemmatized']"
   ]
  },
  {
   "cell_type": "code",
   "execution_count": 206,
   "metadata": {},
   "outputs": [],
   "source": [
    "topic_11 = pd.DataFrame({'number':df['topic'].index, 'theme':df['topic'].values})"
   ]
  },
  {
   "cell_type": "code",
   "execution_count": 207,
   "metadata": {},
   "outputs": [
    {
     "data": {
      "text/html": [
       "<div>\n",
       "<style scoped>\n",
       "    .dataframe tbody tr th:only-of-type {\n",
       "        vertical-align: middle;\n",
       "    }\n",
       "\n",
       "    .dataframe tbody tr th {\n",
       "        vertical-align: top;\n",
       "    }\n",
       "\n",
       "    .dataframe thead th {\n",
       "        text-align: right;\n",
       "    }\n",
       "</style>\n",
       "<table border=\"1\" class=\"dataframe\">\n",
       "  <thead>\n",
       "    <tr style=\"text-align: right;\">\n",
       "      <th></th>\n",
       "      <th>number</th>\n",
       "      <th>theme</th>\n",
       "    </tr>\n",
       "  </thead>\n",
       "  <tbody>\n",
       "    <tr>\n",
       "      <th>0</th>\n",
       "      <td>0</td>\n",
       "      <td>6</td>\n",
       "    </tr>\n",
       "    <tr>\n",
       "      <th>1</th>\n",
       "      <td>1</td>\n",
       "      <td>9</td>\n",
       "    </tr>\n",
       "    <tr>\n",
       "      <th>2</th>\n",
       "      <td>2</td>\n",
       "      <td>6</td>\n",
       "    </tr>\n",
       "    <tr>\n",
       "      <th>3</th>\n",
       "      <td>3</td>\n",
       "      <td>6</td>\n",
       "    </tr>\n",
       "    <tr>\n",
       "      <th>4</th>\n",
       "      <td>4</td>\n",
       "      <td>6</td>\n",
       "    </tr>\n",
       "    <tr>\n",
       "      <th>...</th>\n",
       "      <td>...</td>\n",
       "      <td>...</td>\n",
       "    </tr>\n",
       "    <tr>\n",
       "      <th>11309</th>\n",
       "      <td>11309</td>\n",
       "      <td>6</td>\n",
       "    </tr>\n",
       "    <tr>\n",
       "      <th>11310</th>\n",
       "      <td>11310</td>\n",
       "      <td>9</td>\n",
       "    </tr>\n",
       "    <tr>\n",
       "      <th>11311</th>\n",
       "      <td>11311</td>\n",
       "      <td>6</td>\n",
       "    </tr>\n",
       "    <tr>\n",
       "      <th>11312</th>\n",
       "      <td>11312</td>\n",
       "      <td>9</td>\n",
       "    </tr>\n",
       "    <tr>\n",
       "      <th>11313</th>\n",
       "      <td>11313</td>\n",
       "      <td>9</td>\n",
       "    </tr>\n",
       "  </tbody>\n",
       "</table>\n",
       "<p>11314 rows × 2 columns</p>\n",
       "</div>"
      ],
      "text/plain": [
       "       number  theme\n",
       "0           0      6\n",
       "1           1      9\n",
       "2           2      6\n",
       "3           3      6\n",
       "4           4      6\n",
       "...       ...    ...\n",
       "11309   11309      6\n",
       "11310   11310      9\n",
       "11311   11311      6\n",
       "11312   11312      9\n",
       "11313   11313      9\n",
       "\n",
       "[11314 rows x 2 columns]"
      ]
     },
     "execution_count": 207,
     "metadata": {},
     "output_type": "execute_result"
    }
   ],
   "source": [
    "topic_11"
   ]
  },
  {
   "cell_type": "code",
   "execution_count": 208,
   "metadata": {},
   "outputs": [],
   "source": [
    "lemmas = pd.DataFrame({'number':df['data_lemmatized'].index, 'theme':df['data_lemmatized'].values})"
   ]
  },
  {
   "cell_type": "code",
   "execution_count": 233,
   "metadata": {},
   "outputs": [],
   "source": [
    "final_df = topic_11.merge(lemmas, on='number')"
   ]
  },
  {
   "cell_type": "code",
   "execution_count": 234,
   "metadata": {},
   "outputs": [
    {
     "data": {
      "text/html": [
       "<div>\n",
       "<style scoped>\n",
       "    .dataframe tbody tr th:only-of-type {\n",
       "        vertical-align: middle;\n",
       "    }\n",
       "\n",
       "    .dataframe tbody tr th {\n",
       "        vertical-align: top;\n",
       "    }\n",
       "\n",
       "    .dataframe thead th {\n",
       "        text-align: right;\n",
       "    }\n",
       "</style>\n",
       "<table border=\"1\" class=\"dataframe\">\n",
       "  <thead>\n",
       "    <tr style=\"text-align: right;\">\n",
       "      <th></th>\n",
       "      <th>number</th>\n",
       "      <th>theme_x</th>\n",
       "      <th>theme_y</th>\n",
       "    </tr>\n",
       "  </thead>\n",
       "  <tbody>\n",
       "    <tr>\n",
       "      <th>0</th>\n",
       "      <td>0</td>\n",
       "      <td>6</td>\n",
       "      <td>[where, thing, car, nntp_poste, host, park, li...</td>\n",
       "    </tr>\n",
       "    <tr>\n",
       "      <th>1</th>\n",
       "      <td>1</td>\n",
       "      <td>9</td>\n",
       "      <td>[poll, final, call, summary, final, call, cloc...</td>\n",
       "    </tr>\n",
       "    <tr>\n",
       "      <th>2</th>\n",
       "      <td>2</td>\n",
       "      <td>6</td>\n",
       "      <td>[engineering, computer, network, distribution_...</td>\n",
       "    </tr>\n",
       "    <tr>\n",
       "      <th>3</th>\n",
       "      <td>3</td>\n",
       "      <td>6</td>\n",
       "      <td>[division, line, host, write, write, article, ...</td>\n",
       "    </tr>\n",
       "    <tr>\n",
       "      <th>4</th>\n",
       "      <td>4</td>\n",
       "      <td>6</td>\n",
       "      <td>[question, distribution, article, write, clear...</td>\n",
       "    </tr>\n",
       "    <tr>\n",
       "      <th>...</th>\n",
       "      <td>...</td>\n",
       "      <td>...</td>\n",
       "      <td>...</td>\n",
       "    </tr>\n",
       "    <tr>\n",
       "      <th>11309</th>\n",
       "      <td>11309</td>\n",
       "      <td>6</td>\n",
       "      <td>[scan, city, reply, line, consultation, cheap,...</td>\n",
       "    </tr>\n",
       "    <tr>\n",
       "      <th>11310</th>\n",
       "      <td>11310</td>\n",
       "      <td>9</td>\n",
       "      <td>[screen, medford, old, problem, screen, blank,...</td>\n",
       "    </tr>\n",
       "    <tr>\n",
       "      <th>11311</th>\n",
       "      <td>11311</td>\n",
       "      <td>6</td>\n",
       "      <td>[este, mount, mail, group, line, instal, try, ...</td>\n",
       "    </tr>\n",
       "    <tr>\n",
       "      <th>11312</th>\n",
       "      <td>11312</td>\n",
       "      <td>9</td>\n",
       "      <td>[line, article, write, boy, embarasse, trivial...</td>\n",
       "    </tr>\n",
       "    <tr>\n",
       "      <th>11313</th>\n",
       "      <td>11313</td>\n",
       "      <td>9</td>\n",
       "      <td>[steal, organization, line, distribution_usa, ...</td>\n",
       "    </tr>\n",
       "  </tbody>\n",
       "</table>\n",
       "<p>11314 rows × 3 columns</p>\n",
       "</div>"
      ],
      "text/plain": [
       "       number  theme_x                                            theme_y\n",
       "0           0        6  [where, thing, car, nntp_poste, host, park, li...\n",
       "1           1        9  [poll, final, call, summary, final, call, cloc...\n",
       "2           2        6  [engineering, computer, network, distribution_...\n",
       "3           3        6  [division, line, host, write, write, article, ...\n",
       "4           4        6  [question, distribution, article, write, clear...\n",
       "...       ...      ...                                                ...\n",
       "11309   11309        6  [scan, city, reply, line, consultation, cheap,...\n",
       "11310   11310        9  [screen, medford, old, problem, screen, blank,...\n",
       "11311   11311        6  [este, mount, mail, group, line, instal, try, ...\n",
       "11312   11312        9  [line, article, write, boy, embarasse, trivial...\n",
       "11313   11313        9  [steal, organization, line, distribution_usa, ...\n",
       "\n",
       "[11314 rows x 3 columns]"
      ]
     },
     "execution_count": 234,
     "metadata": {},
     "output_type": "execute_result"
    }
   ],
   "source": [
    "final_df"
   ]
  },
  {
   "cell_type": "markdown",
   "metadata": {},
   "source": [
    "Напишем функцию для получения топиков и слов, которые к ним принадлежат "
   ]
  },
  {
   "cell_type": "code",
   "execution_count": null,
   "metadata": {},
   "outputs": [],
   "source": []
  }
 ],
 "metadata": {
  "kernelspec": {
   "display_name": "Python 3",
   "language": "python",
   "name": "python3"
  },
  "language_info": {
   "codemirror_mode": {
    "name": "ipython",
    "version": 3
   },
   "file_extension": ".py",
   "mimetype": "text/x-python",
   "name": "python",
   "nbconvert_exporter": "python",
   "pygments_lexer": "ipython3",
   "version": "3.7.4"
  }
 },
 "nbformat": 4,
 "nbformat_minor": 2
}
